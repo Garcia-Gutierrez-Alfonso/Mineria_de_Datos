{
 "cells": [
  {
   "cell_type": "markdown",
   "id": "e30d0e2e",
   "metadata": {},
   "source": [
    "# Ejercicios Basicos Python\n",
    "## García Gutiérrez Alfonso de Jesús     1853849"
   ]
  },
  {
   "cell_type": "markdown",
   "id": "a84f81a9",
   "metadata": {},
   "source": [
    "### Ejercicio 1:\n",
    "Realiza una variable con tu matricula y realiza una secuencia de imprimir con tu nombre y tu matricula concatenados."
   ]
  },
  {
   "cell_type": "code",
   "execution_count": 1,
   "id": "8b872189",
   "metadata": {},
   "outputs": [
    {
     "name": "stdout",
     "output_type": "stream",
     "text": [
      "Alfonso de J. Garcia Gutierrez 1853849\n"
     ]
    }
   ],
   "source": [
    "matricula = 1853849 # Variable con mi matricula\n",
    "\n",
    "print(\"Alfonso de J. Garcia Gutierrez {}\".format(matricula)) # Se imprime mi nombre y la matricula, concatenados"
   ]
  },
  {
   "cell_type": "markdown",
   "id": "c23599af",
   "metadata": {},
   "source": [
    "### Ejercicio 2: \n",
    "Pidiendo el input del usuario pide dos números y crea una pequeña calculadora con los operadores básicos de suma, resta, multiplicación, división, y exponente."
   ]
  },
  {
   "cell_type": "code",
   "execution_count": 2,
   "id": "d43c0029",
   "metadata": {},
   "outputs": [
    {
     "name": "stdout",
     "output_type": "stream",
     "text": [
      "Introduce el primer número: 7\n",
      "Introduce el segundo número: 3\n",
      "\n",
      "Seleccione la operación que desea realizar:\n",
      "1) Suma \n",
      "2) Resta \n",
      "3) Multiplicacion \n",
      "4) Division \n",
      "5) Exponente\n",
      "Seleccione una opcion: 3\n",
      "\n",
      "OPERACION MULTIPLICACION \n",
      "Multiplicacion de 7.0 con 3.0 = 21.0\n"
     ]
    }
   ],
   "source": [
    "num1 = float(input(\"Introduce el primer número: \" )) # primer numero\n",
    "num2 = float(input(\"Introduce el segundo número: \" )) # segundo numero\n",
    "\n",
    "#menu de opciones para el usuario\n",
    "print(\"\\nSeleccione la operación que desea realizar:\\n1) Suma \\n2) Resta \\n3) Multiplicacion \\n4) Division \\n5) Exponente\")\n",
    "\n",
    "# ciclo para corroborar que se seleccione un elemento del menu\n",
    "i = 0\n",
    "while i == 0:\n",
    "    select = int(input(\"Seleccione una opcion: \")) # variable que indicará la operación\n",
    "    if (select != 1) and (select != 2) and (select != 3) and (select != 4) and (select != 5):\n",
    "        i = 0\n",
    "    else:\n",
    "        i = 1\n",
    "\n",
    "# calculadora\n",
    "if select == 1:\n",
    "    suma = num1 + num2\n",
    "    print(\"\\nOPERACION SUMA \\nSuma de {} con {} = {}\".format(num1, num2, suma))\n",
    "elif select == 2:\n",
    "    resta = num1 - num2\n",
    "    print(\"\\nOPERACION RESTA \\nResta de {} con {} = {}\".format(num1, num2, resta))\n",
    "elif select == 3:\n",
    "    mult = num1*num2\n",
    "    print(\"\\nOPERACION MULTIPLICACION \\nMultiplicacion de {} con {} = {}\".format(num1, num2, mult))\n",
    "elif select == 4:\n",
    "    div = num1/num2\n",
    "    print(\"\\nOPERACION DIVISION \\nDivision de {} entre {} = {}\".format(num1, num2, div))\n",
    "elif select == 5:\n",
    "    exp = num1**num2\n",
    "    print(\"\\nOPERACION EXPONENTE \\nExponente de {} elevado a la {} = {}\".format(num1, num2, exp))\n",
    "else:\n",
    "    print(\"Fin del programa...\")"
   ]
  },
  {
   "cell_type": "markdown",
   "id": "6779f9a7",
   "metadata": {},
   "source": [
    "### Ejercicio 3: \n",
    "Con loop while o for, realiza una lista de 10 numeros multiplos de 3, y después realiza una función de loop que sume todos los números dentro del arreglo."
   ]
  },
  {
   "cell_type": "code",
   "execution_count": 3,
   "id": "2a435a0d",
   "metadata": {},
   "outputs": [
    {
     "name": "stdout",
     "output_type": "stream",
     "text": [
      "Introduzca un numero multiplo de 3 correspondiente al elemento 1 del arreglo\n",
      "Numero: 3\n",
      "Introduzca un numero multiplo de 3 correspondiente al elemento 2 del arreglo\n",
      "Numero: 6\n",
      "Introduzca un numero multiplo de 3 correspondiente al elemento 3 del arreglo\n",
      "Numero: 12\n",
      "Introduzca un numero multiplo de 3 correspondiente al elemento 4 del arreglo\n",
      "Numero: 15\n",
      "Introduzca un numero multiplo de 3 correspondiente al elemento 5 del arreglo\n",
      "Numero: 7\n",
      "El numero no es multiplo de 3... Intente nuevamente\n",
      "Introduzca un numero multiplo de 3 correspondiente al elemento 5 del arreglo\n",
      "Numero: 9\n",
      "Introduzca un numero multiplo de 3 correspondiente al elemento 6 del arreglo\n",
      "Numero: 4\n",
      "El numero no es multiplo de 3... Intente nuevamente\n",
      "Introduzca un numero multiplo de 3 correspondiente al elemento 6 del arreglo\n",
      "Numero: 12\n",
      "Introduzca un numero multiplo de 3 correspondiente al elemento 7 del arreglo\n",
      "Numero: 3\n",
      "Introduzca un numero multiplo de 3 correspondiente al elemento 8 del arreglo\n",
      "Numero: 3\n",
      "Introduzca un numero multiplo de 3 correspondiente al elemento 9 del arreglo\n",
      "Numero: 6\n",
      "Introduzca un numero multiplo de 3 correspondiente al elemento 10 del arreglo\n",
      "Numero: 9\n",
      "La suma de todos los numeros del arreglo: 78\n"
     ]
    }
   ],
   "source": [
    "lista = [0, 0, 0, 0, 0, 0, 0, 0, 0, 0] # lista de 10 elementos vacia que será llenada\n",
    "\n",
    "# llenado de la lista\n",
    "for i in range(0,10):\n",
    "    k = 0\n",
    "    # ciclo para corroborar que el numero ingresado sea multiplo de 3\n",
    "    while k == 0:\n",
    "        print(\"Introduzca un numero multiplo de 3 correspondiente al elemento {} del arreglo\".format(i+1))\n",
    "        x = int(input(\"Numero: \"))\n",
    "        if x%3 == 0:\n",
    "            k = 1\n",
    "            lista[i] = x\n",
    "        else:\n",
    "            print(\"El numero no es multiplo de 3... Intente nuevamente\")\n",
    "            k = 0\n",
    "\n",
    "suma_tot = 0\n",
    "for j in range(0,10):\n",
    "    suma_tot = suma_tot + lista[j]\n",
    "\n",
    "print(\"La suma de todos los numeros del arreglo: {}\".format(suma_tot))"
   ]
  },
  {
   "cell_type": "markdown",
   "id": "b36309f3",
   "metadata": {},
   "source": [
    "### Ejercicio 4:\n",
    "+ Con una función de if else, revisar si un número es par o es impar."
   ]
  },
  {
   "cell_type": "code",
   "execution_count": 4,
   "id": "b6b73002",
   "metadata": {},
   "outputs": [
    {
     "name": "stdout",
     "output_type": "stream",
     "text": [
      "Introduce un numero:7\n",
      "-------------------\n",
      "Revisando si es par o impar...\n",
      "El numero 7 es impar\n"
     ]
    }
   ],
   "source": [
    "num = int(input(\"Introduce un numero:\" ))\n",
    "\n",
    "print(\"-------------------\")\n",
    "print(\"Revisando si es par o impar...\")\n",
    "\n",
    "# si el residuo de la división entre 2 es cero, entocnes el numero es par\n",
    "if num%2 == 0:\n",
    "    print(\"El numero {} es par\".format(num))\n",
    "else:\n",
    "    print(\"El numero {} es impar\".format(num))"
   ]
  },
  {
   "cell_type": "markdown",
   "id": "a8ac88a5",
   "metadata": {},
   "source": [
    "+ Con una función de if else, revisar si un número es primo o no."
   ]
  },
  {
   "cell_type": "code",
   "execution_count": 5,
   "id": "d4595085",
   "metadata": {},
   "outputs": [
    {
     "name": "stdout",
     "output_type": "stream",
     "text": [
      "Introduce un numero:13\n",
      "-------------------\n",
      "Revisando si es un numero primo o no...\n",
      "El numero 13 es un numero primo\n"
     ]
    }
   ],
   "source": [
    "num = int(input(\"Introduce un numero:\" ))\n",
    "\n",
    "print(\"-------------------\")\n",
    "print(\"Revisando si es un numero primo o no...\")\n",
    "\n",
    "# si el numero es divisible solo por 1 y el propio numero, entonces es un numero primo\n",
    "j = 0\n",
    "for i in range(1,(num+1)):\n",
    "    if num%i == 0:\n",
    "        j = j + 1\n",
    "\n",
    "if j == 2:\n",
    "    print(\"El numero {} es un numero primo\".format(num))\n",
    "else:\n",
    "    print(\"El numero {} no es un numero primo\".format(num))\n",
    "        "
   ]
  },
  {
   "cell_type": "markdown",
   "id": "5f8d0c90",
   "metadata": {},
   "source": [
    "### Ejercicio 5:\n",
    "Utilizando diferentes clases en python, crea una calculadora con los operadores básicos de suma, resta, multiplicación, división, y exponente."
   ]
  },
  {
   "cell_type": "code",
   "execution_count": 6,
   "id": "00c33488",
   "metadata": {},
   "outputs": [
    {
     "name": "stdout",
     "output_type": "stream",
     "text": [
      "\n",
      "Seleccione la operación que desea realizar:\n",
      "1) Suma \n",
      "2) Resta \n",
      "3) Multiplicacion \n",
      "4) Division \n",
      "5) Exponente \n",
      "6) Salir\n",
      "Seleccione una opcion: 4\n",
      "\n",
      "Introduce el dividendo: 16\n",
      "Introduce el divisor: 2\n",
      "\n",
      "OPERACION DIVISION \n",
      "Division de 16.0 entre 2.0 = 8.0\n"
     ]
    }
   ],
   "source": [
    "# Calculadora con operadores básicos\n",
    "\n",
    "#menu de opciones para el usuario\n",
    "print(\"\\nSeleccione la operación que desea realizar:\\n1) Suma \\n2) Resta \\n3) Multiplicacion \\n4) Division \\n5) Exponente \\n6) Salir\")\n",
    "\n",
    "# ciclo para corroborar que se seleccione un elemento del menu\n",
    "i = 0\n",
    "while i == 0:\n",
    "    select = int(input(\"Seleccione una opcion: \")) # variable que indicará la operación\n",
    "    if (select != 1) and (select != 2) and (select != 3) and (select != 4) and (select != 5) and (select != 6):\n",
    "        i = 0\n",
    "    else:\n",
    "        i = 1\n",
    "        \n",
    "# calculadora\n",
    "if select == 1:\n",
    "    num1 = float(input(\"\\nIntroduce el primer número: \" )) # primer numero\n",
    "    num2 = float(input(\"Introduce el segundo número: \" )) # segundo numero\n",
    "    suma = num1 + num2\n",
    "    print(\"\\nOPERACION SUMA \\nSuma de {} con {} = {}\".format(num1, num2, suma))\n",
    "elif select == 2:\n",
    "    num1 = float(input(\"\\nIntroduce el minuendo: \" )) # primer numero\n",
    "    num2 = float(input(\"Introduce el sustraendo: \" )) # segundo numero\n",
    "    resta = num1 - num2\n",
    "    print(\"\\nOPERACION RESTA \\nResta de {} con {} = {}\".format(num1, num2, resta))\n",
    "elif select == 3:\n",
    "    num1 = float(input(\"\\nIntroduce el primer número: \" )) # primer numero\n",
    "    num2 = float(input(\"Introduce el segundo número: \" )) # segundo numero\n",
    "    mult = num1*num2\n",
    "    print(\"\\nOPERACION MULTIPLICACION \\nMultiplicacion de {} con {} = {}\".format(num1, num2, mult))\n",
    "elif select == 4:\n",
    "    num1 = float(input(\"\\nIntroduce el dividendo: \" )) # primer numero\n",
    "    num2 = float(input(\"Introduce el divisor: \" )) # segundo numero\n",
    "    div = num1/num2\n",
    "    print(\"\\nOPERACION DIVISION \\nDivision de {} entre {} = {}\".format(num1, num2, div))\n",
    "elif select == 5:\n",
    "    num1 = float(input(\"\\nIntroduce el numero: \" )) # primer numero\n",
    "    num2 = float(input(\"Introduce la potencia a la que sera elevado: \" )) # segundo numero\n",
    "    exp = num1**num2\n",
    "    print(\"\\nOPERACION EXPONENTE \\nExponente de {} elevado a la {} = {}\".format(num1, num2, exp))\n",
    "else:\n",
    "    print(\"\\nFin del programa...\")"
   ]
  },
  {
   "cell_type": "markdown",
   "id": "23fd827f",
   "metadata": {},
   "source": [
    "# Ejercicios con estructuras básicas de python"
   ]
  },
  {
   "cell_type": "markdown",
   "id": "fd14ceff",
   "metadata": {},
   "source": [
    "### Tuplas"
   ]
  },
  {
   "cell_type": "markdown",
   "id": "5111a3b6",
   "metadata": {},
   "source": [
    "+ Crear una variable flotante, integer, boleana y compleja e imprimir el tipo de variable que es."
   ]
  },
  {
   "cell_type": "code",
   "execution_count": 7,
   "id": "6465aa85",
   "metadata": {},
   "outputs": [
    {
     "name": "stdout",
     "output_type": "stream",
     "text": [
      "La variable 'flotante' es del tipo:  <class 'float'>\n",
      "La variable 'entera' es del tipo:  <class 'int'>\n",
      "La variable 'booelana' es del tipo:  <class 'bool'>\n",
      "La variable 'compleja' es del tipo:  <class 'complex'>\n"
     ]
    }
   ],
   "source": [
    "# variable flotante\n",
    "flotante = 5.98\n",
    "print(\"La variable 'flotante' es del tipo: \", type(flotante))\n",
    "\n",
    "# variable entera\n",
    "entera = 4\n",
    "print(\"La variable 'entera' es del tipo: \", type(entera))\n",
    "\n",
    "# variable boleana\n",
    "booleana = False\n",
    "print(\"La variable 'booelana' es del tipo: \", type(booleana))\n",
    "\n",
    "# variable compleja\n",
    "compleja = 4 + 3j\n",
    "print(\"La variable 'compleja' es del tipo: \", type(compleja))\n"
   ]
  },
  {
   "cell_type": "markdown",
   "id": "5b70e4d3",
   "metadata": {},
   "source": [
    "+ Crear una tupla con valores enteros imprimir el primer y ultimo valor."
   ]
  },
  {
   "cell_type": "code",
   "execution_count": 8,
   "id": "e8c6e814",
   "metadata": {},
   "outputs": [
    {
     "name": "stdout",
     "output_type": "stream",
     "text": [
      "Primer elemento de la tupla: 5\n",
      "\n",
      "Ultimo elemento de la tupla: 50\n"
     ]
    }
   ],
   "source": [
    "tupla = (5, 10, 15, 20, 25, 30, 35, 40, 45, 50) # creacion de la tupla con elementos enteros\n",
    "\n",
    "print(\"Primer elemento de la tupla:\",tupla[0]) # se imprime el primer elemento de la tupla\n",
    "\n",
    "print(\"\\nUltimo elemento de la tupla:\",tupla[-1]) # se imprime el ultimo elemento de la tupla"
   ]
  },
  {
   "cell_type": "markdown",
   "id": "0d981ac9",
   "metadata": {},
   "source": [
    "+ Añadir 3 valores de string a la tupla."
   ]
  },
  {
   "cell_type": "code",
   "execution_count": 9,
   "id": "894ae5b6",
   "metadata": {},
   "outputs": [
    {
     "name": "stdout",
     "output_type": "stream",
     "text": [
      "Tupla con los valores nuevos:  (5, 10, 15, 20, 25, 30, 35, 40, 45, 50, 'primero', 'segundo', 'tercero')\n"
     ]
    }
   ],
   "source": [
    "tupla = tupla.__add__(('primero','segundo','tercero')) # se añaden 3 valores de string a la tupla\n",
    "\n",
    "print(\"Tupla con los valores nuevos: \", tupla) # se imprime la tupla nueva"
   ]
  },
  {
   "cell_type": "markdown",
   "id": "808fe43c",
   "metadata": {},
   "source": [
    "+ Verificar si una variable existe dentro de la tupla."
   ]
  },
  {
   "cell_type": "code",
   "execution_count": 10,
   "id": "c2470542",
   "metadata": {},
   "outputs": [
    {
     "name": "stdout",
     "output_type": "stream",
     "text": [
      "La variable no existe dentro de la tupla\n"
     ]
    }
   ],
   "source": [
    "variable = 16 # creacion de la variable\n",
    "\n",
    "# verificacion de la existencia de la variable dentro de la tupla\n",
    "if variable in tupla:\n",
    "    print(\"La variable existe dentro de la tupla\")\n",
    "else:\n",
    "    print(\"La variable no existe dentro de la tupla\")"
   ]
  },
  {
   "cell_type": "markdown",
   "id": "ae7606c7",
   "metadata": {},
   "source": [
    "### Listas"
   ]
  },
  {
   "cell_type": "markdown",
   "id": "84f01877",
   "metadata": {},
   "source": [
    "+ Crear una lista con 40 elementos aleatorios enteros."
   ]
  },
  {
   "cell_type": "code",
   "execution_count": 11,
   "id": "095ada25",
   "metadata": {},
   "outputs": [
    {
     "name": "stdout",
     "output_type": "stream",
     "text": [
      "Elementos de la lista aleatoria: \n",
      "[96, 6, 22, 100, 92, 70, 13, 30, 73, 26, 96, 56, 22, 21, 3, 11, 33, 8, 29, 81, 4, 3, 76, 15, 86, 94, 47, 5, 13, 47, 45, 95, 90, 38, 63, 5, 89, 50, 26, 93]\n",
      "<class 'list'>\n"
     ]
    }
   ],
   "source": [
    "import random as rd\n",
    "\n",
    "# creacion de una lista con elementos 0\n",
    "lista = [0]*40                             \n",
    "\n",
    "# llenado de la lista con elementos aleatorios\n",
    "i = 0\n",
    "for i in range(0, (len(lista))):\n",
    "    lista[i] = rd.randint(1,100) # selecciona un numero aleatorio entre 1 y 100, lo asigna a la posicion de la lista\n",
    "    \n",
    "# nota: este ciclo fue hecho para que los elementos pudieran repetirse\n",
    "# con un sample, los elementos ya no se repiten\n",
    "\n",
    "print(\"Elementos de la lista aleatoria: \")\n",
    "print(lista)\n",
    "print(type(lista))"
   ]
  },
  {
   "cell_type": "markdown",
   "id": "fb8f5bcf",
   "metadata": {},
   "source": [
    "+ Con una funcion (def) crear dos listas nuevas a partir de la lista creada por numeros aleatorios, en la cual en una esten los elementos pares, y en la otra los elementos impares."
   ]
  },
  {
   "cell_type": "code",
   "execution_count": 12,
   "id": "b397f6ed",
   "metadata": {},
   "outputs": [],
   "source": [
    "# funcion llamada 'partir', recibe una lista\n",
    "def partir(list1):\n",
    "    lista_pares = [0]                      # se crea la lista de numeros pares\n",
    "    lista_impares = [0]                    # se crea la lista de numeros impares\n",
    "    i = 0\n",
    "    for i in range(0, len(list1)):\n",
    "        if list1[i]%2 == 0:\n",
    "            lista_pares.append(list1[i])                # si el elemento es par, se agrega a la lista de pares\n",
    "        else:\n",
    "            lista_impares.append(list1[i])              # en caso contrario, se agrega a la lista de impares\n",
    "    lista_pares.pop(0)                      # se elimina el primer elemento de la lista pares (era un 0)\n",
    "    lista_impares.pop(0)                    # se elimina el primer elemento de la lista impares (era un 0)\n",
    "    x = lista_pares                         # lista pares se asigna a x\n",
    "    y = lista_impares                       # lista impares se asigna a y\n",
    "    return x, y                             # regresa la lista de pares y la lista de impares"
   ]
  },
  {
   "cell_type": "code",
   "execution_count": 13,
   "id": "3bd6c7c7",
   "metadata": {
    "scrolled": true
   },
   "outputs": [
    {
     "name": "stdout",
     "output_type": "stream",
     "text": [
      "La lista con elementos pares es: \n",
      "[96, 6, 22, 100, 92, 70, 30, 26, 96, 56, 22, 8, 4, 76, 86, 94, 90, 38, 50, 26]\n",
      "-----------------------------------------\n",
      "La lista con elementos impares es: \n",
      "[13, 73, 21, 3, 11, 33, 29, 81, 3, 15, 47, 5, 13, 47, 45, 95, 63, 5, 89, 93]\n"
     ]
    }
   ],
   "source": [
    "listapar, listaimpar = partir(lista)        # listapar y listaimpar recibirán las listas que retornan de la función 'partir'\n",
    "                                            # se manda la lista original de 40 elementos y se reciben 2 listas\n",
    "    \n",
    "print(\"La lista con elementos pares es: \")\n",
    "print(listapar)\n",
    "print(\"-----------------------------------------\")\n",
    "print(\"La lista con elementos impares es: \")\n",
    "print(listaimpar)"
   ]
  },
  {
   "cell_type": "markdown",
   "id": "e35ef0ac",
   "metadata": {},
   "source": [
    "+ Crear dos variables con la longitud de ambas listas nuevas e imprimir las variables."
   ]
  },
  {
   "cell_type": "code",
   "execution_count": 14,
   "id": "f4fdcda7",
   "metadata": {},
   "outputs": [
    {
     "name": "stdout",
     "output_type": "stream",
     "text": [
      "Longitud de la lista de numeros pares:  20\n",
      "------------------------------------------------\n",
      "Longitud de la lista de numeros impares:  20\n"
     ]
    }
   ],
   "source": [
    "long_par = len(listapar)\n",
    "long_impar = len(listaimpar)\n",
    "\n",
    "print(\"Longitud de la lista de numeros pares: \",long_par)\n",
    "print(\"------------------------------------------------\")\n",
    "print(\"Longitud de la lista de numeros impares: \",long_impar)"
   ]
  },
  {
   "cell_type": "markdown",
   "id": "49b63522",
   "metadata": {},
   "source": [
    "+ Ordenar los elementos de la lista par de mayor a menor, y los de la lista impar de menor a mayor."
   ]
  },
  {
   "cell_type": "code",
   "execution_count": 15,
   "id": "8deb3a5a",
   "metadata": {},
   "outputs": [
    {
     "name": "stdout",
     "output_type": "stream",
     "text": [
      "Lista de elementos pares ordenados de mayor a menor: \n",
      "[100, 96, 96, 94, 92, 90, 86, 76, 70, 56, 50, 38, 30, 26, 26, 22, 22, 8, 6, 4]\n",
      "-----------------------------------------\n",
      "Lista de elementos impares ordenados de menor a mayor: \n",
      "[3, 3, 5, 5, 11, 13, 13, 15, 21, 29, 33, 45, 47, 47, 63, 73, 81, 89, 93, 95]\n"
     ]
    }
   ],
   "source": [
    "listapar.sort(reverse = True)\n",
    "listaimpar.sort()\n",
    "\n",
    "print(\"Lista de elementos pares ordenados de mayor a menor: \")\n",
    "print(listapar)\n",
    "print(\"-----------------------------------------\")\n",
    "print(\"Lista de elementos impares ordenados de menor a mayor: \")\n",
    "print(listaimpar)"
   ]
  },
  {
   "cell_type": "markdown",
   "id": "2e4274ff",
   "metadata": {},
   "source": [
    "+ Utilizar al menos cuatro de las funciones de listas en python en la lista original de 40 elementos."
   ]
  },
  {
   "cell_type": "code",
   "execution_count": 16,
   "id": "3adaae61",
   "metadata": {},
   "outputs": [
    {
     "name": "stdout",
     "output_type": "stream",
     "text": [
      "[96, 6, 22, 100, 92, 70, 13, 30, 73, 26, 96, 56, 22, 21, 3, 11, 33, 8, 29, 81, 4, 3, 76, 15, 86, 94, 47, 5, 13, 47, 45, 95, 90, 38, 63, 5, 89, 50, 26, 93]\n"
     ]
    },
    {
     "data": {
      "text/plain": [
       "True"
      ]
     },
     "execution_count": 16,
     "metadata": {},
     "output_type": "execute_result"
    }
   ],
   "source": [
    "# primera funcion\n",
    "\n",
    "# es importante realizar una copia de la lista para no perder los valores originales, para ello se usa copy()\n",
    "lista2 = lista.copy()\n",
    "\n",
    "# observemos que lista2, tiene los mismos elementos que la lista original:\n",
    "print(lista2)\n",
    "\n",
    "# también se puede comparar de esta manera\n",
    "lista2 == lista"
   ]
  },
  {
   "cell_type": "code",
   "execution_count": 17,
   "id": "ec884acf",
   "metadata": {},
   "outputs": [
    {
     "name": "stdout",
     "output_type": "stream",
     "text": [
      "Nueva lista:\n",
      "[96, 6, 22, 100, 92, 70, 13, 30, 73, 26, 96, 56, 22, 21, 3, 11, 33, 8, 29, 81, 4, 3, 76, 15, 86, 94, 47, 5, 13, 47, 45, 95, 90, 38, 63, 5, 89, 50, 26, 93, 150]\n",
      "\n",
      "Elemento en la ultima posicion:\n",
      "150\n"
     ]
    }
   ],
   "source": [
    "# segunda funcion\n",
    "\n",
    "# para añadir un elemento al final de la lista se usa append()\n",
    "# supongamos que queremos añadir el numero 150 a la lista:\n",
    "lista.append(150)\n",
    "\n",
    "# para verificar que se agregó el numero:\n",
    "print(\"Nueva lista:\")\n",
    "print(lista)\n",
    "\n",
    "# para corroborar que es la posición final:\n",
    "print(\"\\nElemento en la ultima posicion:\")\n",
    "print(lista[-1]) \n",
    "# efectivamente es el numero que acabamos de agregar"
   ]
  },
  {
   "cell_type": "code",
   "execution_count": 18,
   "id": "2e1edaee",
   "metadata": {},
   "outputs": [
    {
     "name": "stdout",
     "output_type": "stream",
     "text": [
      "[96, 6, 22, 100, 92, 70, 13, 30, 73, 26, 96, 56, 22, 21, 3, 11, 33, 8, 29, 81, 4, 3, 76, 15, 86, 94, 47, 5, 13, 47, 45, 95, 90, 38, 63, 5, 89, 50, 26, 93]\n"
     ]
    }
   ],
   "source": [
    "# tercera funcion\n",
    "\n",
    "# para eliminar un elemento de la lista se tiene esta alternativa:\n",
    "# utilizamos pop() para eliminar un elemento en base a su indice\n",
    "lista.pop(len(lista)-1) # eliminamos el ultimo elemento de la lista\n",
    "\n",
    "# podemos observar que el elemento que acababamos de agregar recien, ha sido eliminado\n",
    "print(lista)\n",
    "\n"
   ]
  },
  {
   "cell_type": "code",
   "execution_count": 19,
   "id": "5505552b",
   "metadata": {},
   "outputs": [
    {
     "name": "stdout",
     "output_type": "stream",
     "text": [
      "[96, 6, 22, 100, 92, 70, 13, 30, 73, 26, 96, 56, 22, 21, 3, 11, 33, 8, 29, 81, 4, 3, 76, 15, 86, 94, 47, 5, 13, 47, 45, 95, 90, 38, 63, 5, 89, 50, 26, 93, 10, 10, 10, 10, 10, 10]\n"
     ]
    }
   ],
   "source": [
    "# cuarta funcion\n",
    "\n",
    "# Si se requiere juntar dos listas, podemos utilizar la funcion extend()\n",
    "# creemos una lista nueva:\n",
    "lista_plus = [10, 10, 10, 10, 10, 10]\n",
    "\n",
    "# la podemos agregar a la lista original:\n",
    "lista.extend(lista_plus)\n",
    "\n",
    "# observamos que la nueva lista se ha añadido a la lista original (se ubica al final)\n",
    "print(lista)"
   ]
  },
  {
   "cell_type": "code",
   "execution_count": 20,
   "id": "1067dc32",
   "metadata": {},
   "outputs": [
    {
     "name": "stdout",
     "output_type": "stream",
     "text": [
      "[]\n"
     ]
    }
   ],
   "source": [
    "# quinta funcion\n",
    "\n",
    "# Por último, podemos eliminar toda la lista con la funcion clear()\n",
    "lista.clear()\n",
    "\n",
    "# Si imprimimos la lista:\n",
    "print(lista)\n",
    "# Nos damos cuenta que es una lista vacía"
   ]
  },
  {
   "cell_type": "markdown",
   "id": "1e0e1100",
   "metadata": {},
   "source": [
    "### Diccionarios"
   ]
  },
  {
   "cell_type": "markdown",
   "id": "79086d2e",
   "metadata": {},
   "source": [
    "+ Crear un diccionario de 6 personas que conozcas con su primer nombre y su edad."
   ]
  },
  {
   "cell_type": "code",
   "execution_count": 21,
   "id": "b5d3eb96",
   "metadata": {},
   "outputs": [
    {
     "data": {
      "text/plain": [
       "dict"
      ]
     },
     "execution_count": 21,
     "metadata": {},
     "output_type": "execute_result"
    }
   ],
   "source": [
    "# se crea el diccionario pedido\n",
    "dicc = {'Jose': 19, 'Angela': 20, 'Manuel': 18,\n",
    "        'Isabel': 20, 'Jorge': 22, 'Paola': 19}\n",
    "\n",
    "type(dicc)"
   ]
  },
  {
   "cell_type": "markdown",
   "id": "73ed7f10",
   "metadata": {},
   "source": [
    "+ Crear una lista con los valores de la edad y reacomodar la lista de menor a mayor valor."
   ]
  },
  {
   "cell_type": "code",
   "execution_count": 22,
   "id": "8b2fd516",
   "metadata": {},
   "outputs": [
    {
     "name": "stdout",
     "output_type": "stream",
     "text": [
      "Edades ordenadas de menor a mayor:  [18, 19, 19, 20, 20, 22]\n"
     ]
    }
   ],
   "source": [
    "lista_dicc = list(dicc.values()) # lista con los valores de la edad\n",
    "\n",
    "lista_ordenada = sorted(lista_dicc) # lista con los valores de la edad ordenados de menor a mayor\n",
    "\n",
    "print(\"Edades ordenadas de menor a mayor: \", lista_ordenada)"
   ]
  },
  {
   "cell_type": "markdown",
   "id": "b1b2cecb",
   "metadata": {},
   "source": [
    "+ Usando el diccionario y un loop, imprimir solo los nombres."
   ]
  },
  {
   "cell_type": "code",
   "execution_count": 23,
   "id": "ae930020",
   "metadata": {},
   "outputs": [
    {
     "name": "stdout",
     "output_type": "stream",
     "text": [
      "Nombre 1 : Jose\n",
      "Nombre 2 : Angela\n",
      "Nombre 3 : Manuel\n",
      "Nombre 4 : Isabel\n",
      "Nombre 5 : Jorge\n",
      "Nombre 6 : Paola\n"
     ]
    }
   ],
   "source": [
    "for i in range(0, len(dicc)):\n",
    "    print(\"Nombre\",(i+1), \":\", list(dicc.keys())[i])"
   ]
  },
  {
   "cell_type": "markdown",
   "id": "f0c72af7",
   "metadata": {},
   "source": [
    "+ Añadir dos personas nuevas a tu diccionario, incluyendo edad."
   ]
  },
  {
   "cell_type": "code",
   "execution_count": 24,
   "id": "3f4022ef",
   "metadata": {},
   "outputs": [
    {
     "data": {
      "text/plain": [
       "{'Jose': 19,\n",
       " 'Angela': 20,\n",
       " 'Manuel': 18,\n",
       " 'Isabel': 20,\n",
       " 'Jorge': 22,\n",
       " 'Paola': 19,\n",
       " 'Felipe': 48,\n",
       " 'Martha': 43}"
      ]
     },
     "execution_count": 24,
     "metadata": {},
     "output_type": "execute_result"
    }
   ],
   "source": [
    "# se añaden dos personas nuevas al diccionario\n",
    "dicc['Felipe'] = 48\n",
    "dicc['Martha'] = 43\n",
    "\n",
    "# se imprime el nuevo diccionario\n",
    "dicc"
   ]
  },
  {
   "cell_type": "markdown",
   "id": "ac848b45",
   "metadata": {},
   "source": [
    "### Sets"
   ]
  },
  {
   "cell_type": "markdown",
   "id": "4d66b243",
   "metadata": {},
   "source": [
    "+ Crea un set con 100 numeros aleatorios enteros del 1 al 25."
   ]
  },
  {
   "cell_type": "code",
   "execution_count": 25,
   "id": "cb3cc8f6",
   "metadata": {},
   "outputs": [
    {
     "name": "stdout",
     "output_type": "stream",
     "text": [
      "{1, 2, 3, 4, 5, 6, 7, 8, 9, 10, 11, 12, 13, 14, 15, 16, 17, 18, 19, 20, 21, 22, 23, 24}\n"
     ]
    }
   ],
   "source": [
    "# set con 100 numeros aleatorios entre 1 y 25\n",
    "import random as rd\n",
    "\n",
    "i = 0\n",
    "set_creado = set()\n",
    "for i in range(0,100):\n",
    "    set_creado.add(rd.randint(1,25))\n",
    "\n",
    "# impresión del set\n",
    "print(set_creado)\n",
    "\n",
    "# podemos observar que solo hay numeros entre 1 y 25, esto se debe a que los sets consisten de elementos únicos"
   ]
  },
  {
   "cell_type": "markdown",
   "id": "3504607d",
   "metadata": {},
   "source": [
    "#### Justificación del inciso anterior\n",
    "\n",
    "<img src='Condicion_sets.jpg'   />"
   ]
  },
  {
   "cell_type": "markdown",
   "id": "984b52e8",
   "metadata": {},
   "source": [
    "+ Comprueba la longitud de tu set."
   ]
  },
  {
   "cell_type": "code",
   "execution_count": 26,
   "id": "2288a5d1",
   "metadata": {},
   "outputs": [
    {
     "data": {
      "text/plain": [
       "24"
      ]
     },
     "execution_count": 26,
     "metadata": {},
     "output_type": "execute_result"
    }
   ],
   "source": [
    "len(set_creado)"
   ]
  },
  {
   "cell_type": "markdown",
   "id": "1576f846",
   "metadata": {},
   "source": [
    "+ Crea una lista de 5 numeros aleatorios del 1 al 10 y comprueba si cada valor aparece en el set inicial."
   ]
  },
  {
   "cell_type": "code",
   "execution_count": 27,
   "id": "54b0be1c",
   "metadata": {},
   "outputs": [
    {
     "name": "stdout",
     "output_type": "stream",
     "text": [
      "Lista con 5 numeros aleatorios entre 1 y 10:\n",
      "[7, 2, 5, 6, 9]\n",
      "\n",
      "\n",
      "El elemento 7 está en el set inicial\n",
      "El elemento 2 está en el set inicial\n",
      "El elemento 5 está en el set inicial\n",
      "El elemento 6 está en el set inicial\n",
      "El elemento 9 está en el set inicial\n"
     ]
    }
   ],
   "source": [
    "# lista con 5 numeros aleatorios\n",
    "lista_nueva = [0]*5\n",
    "i = 0\n",
    "for i in range(0,5):\n",
    "    lista_nueva[i] = rd.randint(1,10)\n",
    "\n",
    "print(\"Lista con 5 numeros aleatorios entre 1 y 10:\")\n",
    "print(lista_nueva)\n",
    "\n",
    "# comprobar si están en el set inicial\n",
    "j = 0\n",
    "print(\"\\n\")\n",
    "for j in range(0,5):\n",
    "    if lista_nueva[j] in set_creado:\n",
    "        print(\"El elemento {} está en el set inicial\".format(lista_nueva[j]))\n",
    "    else:\n",
    "        print(\"El elemento {} no está en el set inicial\".format(lista_nueva[j]))\n",
    "    "
   ]
  }
 ],
 "metadata": {
  "kernelspec": {
   "display_name": "Python 3",
   "language": "python",
   "name": "python3"
  },
  "language_info": {
   "codemirror_mode": {
    "name": "ipython",
    "version": 3
   },
   "file_extension": ".py",
   "mimetype": "text/x-python",
   "name": "python",
   "nbconvert_exporter": "python",
   "pygments_lexer": "ipython3",
   "version": "3.8.8"
  }
 },
 "nbformat": 4,
 "nbformat_minor": 5
}
